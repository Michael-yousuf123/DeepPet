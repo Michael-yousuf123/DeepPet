{
 "cells": [
  {
   "cell_type": "markdown",
   "metadata": {},
   "source": [
    "# Annual anthrax Prediction in Ethiopia"
   ]
  },
  {
   "cell_type": "markdown",
   "metadata": {},
   "source": [
    "### Project overview\n",
    "\n",
    "##### This is a Deep-learning time series forecasting project from end-to-end, from defining the problem to training a final model and making predictions. This project is not exhaustive, but shows how you can get good results quickly by working through a time series forecasting problem systematically. The steps of this project that\n",
    "##### we will work through are as follows:\n",
    "\n",
    "##### 1. Problem Description.\n",
    "##### 2. Aim\n",
    "##### 3. Loading Dataset and Visualization\n",
    "##### 4. Data Preparation\n",
    "##### 2. Test Harness.\n",
    "##### 3. Persistence.\n",
    "##### 4. Data Analysis.\n",
    "##### 5. ARIMA Models.\n",
    "##### 6. Model Validation."
   ]
  },
  {
   "cell_type": "markdown",
   "metadata": {},
   "source": [
    "### Problem framing\n",
    "##### The problem is to predict annual anthrax outbreaks in Ethiopia. The dataset provides the annual anthrax outbreak in Ethiopia from 2014 to 2018, or 5 years of data. The values in data indicates the total number of cases reported during outbreaks in all adminstrative region of Ethiopia, and there are 79 observations. The dataset is credited to Ministry of Livestock and Fisheries of Ethiopia, 2020. Below is a sample of the first few rows of the dataset."
   ]
  },
  {
   "cell_type": "markdown",
   "metadata": {},
   "source": [
    "### Goal of the Project\n",
    "##### To build disease progression model and to forecast the annual new cases of *Bacillus anthracis* in Livestocks by using Deep learning time series models. "
   ]
  },
  {
   "cell_type": "markdown",
   "metadata": {},
   "source": [
    "### Load Data-set and Visualization"
   ]
  },
  {
   "cell_type": "code",
   "execution_count": null,
   "metadata": {},
   "outputs": [],
   "source": [
    "import numpy as np\n",
    "import pandas as pd \n"
   ]
  },
  {
   "cell_type": "code",
   "execution_count": 1,
   "metadata": {},
   "outputs": [],
   "source": [
    "import os\n",
    "import numpy as np\n",
    "import pandas as pd "
   ]
  },
  {
   "cell_type": "code",
   "execution_count": 3,
   "metadata": {},
   "outputs": [],
   "source": [
    "def data_load(path = \".\"):\n",
    "    \"\"\"a function to import the data into\n",
    "    working environment\n",
    "    ============================================== \n",
    "    ARGUMENTS: uses the path as an argument\n",
    "    RETURNS:pandas dataframe\n",
    "    ==============================================\n",
    "    \"\"\"\n",
    "    if os.path.exists(path = \".\"):\n",
    "        df = pd.read_csv(path,header= 0, parse_dates=True, squeeze = True)\n",
    "        return df[['Date', 'Case']].rename(columns = {'Date':'date', 'Case':'case'}, inplace = True)\n",
    "        #df= df.replace('[./d.]', '', regex = True).astype(int)\n",
    "    else:\n",
    "        print(\"File doesn't exist\")\n",
    "def check_data(df):\n",
    "    \"\"\"\"\"\"\n",
    "    if df.isnull():\n",
    "        print(\"The data have the total missing value of\" + df.isnull.sum())\n",
    "    else:\n",
    "        return df.notnull.sum()\n"
   ]
  },
  {
   "cell_type": "code",
   "execution_count": 4,
   "metadata": {},
   "outputs": [],
   "source": [
    "DATAPATH = \"/home/miki/Desktop/Deployment/bacillus-anthracis/data/ts.csv\"\n",
    "df = data_load(DATAPATH)"
   ]
  },
  {
   "cell_type": "code",
   "execution_count": 5,
   "metadata": {},
   "outputs": [
    {
     "data": {
      "text/html": [
       "<div>\n",
       "<style scoped>\n",
       "    .dataframe tbody tr th:only-of-type {\n",
       "        vertical-align: middle;\n",
       "    }\n",
       "\n",
       "    .dataframe tbody tr th {\n",
       "        vertical-align: top;\n",
       "    }\n",
       "\n",
       "    .dataframe thead th {\n",
       "        text-align: right;\n",
       "    }\n",
       "</style>\n",
       "<table border=\"1\" class=\"dataframe\">\n",
       "  <thead>\n",
       "    <tr style=\"text-align: right;\">\n",
       "      <th></th>\n",
       "      <th>Date</th>\n",
       "      <th>Case</th>\n",
       "      <th>Death</th>\n",
       "      <th>No slaughter</th>\n",
       "      <th>Outbreak no</th>\n",
       "    </tr>\n",
       "  </thead>\n",
       "  <tbody>\n",
       "    <tr>\n",
       "      <th>0</th>\n",
       "      <td>1/1/2014</td>\n",
       "      <td>1.0</td>\n",
       "      <td>1.0</td>\n",
       "      <td>0.0</td>\n",
       "      <td>1.0</td>\n",
       "    </tr>\n",
       "    <tr>\n",
       "      <th>1</th>\n",
       "      <td>1/1/2014</td>\n",
       "      <td>9.0</td>\n",
       "      <td>5.0</td>\n",
       "      <td>0.0</td>\n",
       "      <td>1.0</td>\n",
       "    </tr>\n",
       "    <tr>\n",
       "      <th>2</th>\n",
       "      <td>1/1/2014</td>\n",
       "      <td>2.0</td>\n",
       "      <td>1.0</td>\n",
       "      <td>0.0</td>\n",
       "      <td>1.0</td>\n",
       "    </tr>\n",
       "    <tr>\n",
       "      <th>3</th>\n",
       "      <td>1/1/2014</td>\n",
       "      <td>3.0</td>\n",
       "      <td>1.0</td>\n",
       "      <td>0.0</td>\n",
       "      <td>0.0</td>\n",
       "    </tr>\n",
       "    <tr>\n",
       "      <th>4</th>\n",
       "      <td>1/1/2014</td>\n",
       "      <td>5.0</td>\n",
       "      <td>4.0</td>\n",
       "      <td>0.0</td>\n",
       "      <td>0.0</td>\n",
       "    </tr>\n",
       "    <tr>\n",
       "      <th>...</th>\n",
       "      <td>...</td>\n",
       "      <td>...</td>\n",
       "      <td>...</td>\n",
       "      <td>...</td>\n",
       "      <td>...</td>\n",
       "    </tr>\n",
       "    <tr>\n",
       "      <th>859</th>\n",
       "      <td>2/12/2018</td>\n",
       "      <td>4.0</td>\n",
       "      <td>4.0</td>\n",
       "      <td>0.0</td>\n",
       "      <td>1.0</td>\n",
       "    </tr>\n",
       "    <tr>\n",
       "      <th>860</th>\n",
       "      <td>2/11/2018</td>\n",
       "      <td>5.0</td>\n",
       "      <td>2.0</td>\n",
       "      <td>0.0</td>\n",
       "      <td>1.0</td>\n",
       "    </tr>\n",
       "    <tr>\n",
       "      <th>861</th>\n",
       "      <td>3/13/2018</td>\n",
       "      <td>2.0</td>\n",
       "      <td>2.0</td>\n",
       "      <td>0.0</td>\n",
       "      <td>1.0</td>\n",
       "    </tr>\n",
       "    <tr>\n",
       "      <th>862</th>\n",
       "      <td>3/20/2018</td>\n",
       "      <td>24.0</td>\n",
       "      <td>7.0</td>\n",
       "      <td>0.0</td>\n",
       "      <td>1.0</td>\n",
       "    </tr>\n",
       "    <tr>\n",
       "      <th>863</th>\n",
       "      <td>9/7/2018</td>\n",
       "      <td>11.0</td>\n",
       "      <td>9.0</td>\n",
       "      <td>0.0</td>\n",
       "      <td>1.0</td>\n",
       "    </tr>\n",
       "  </tbody>\n",
       "</table>\n",
       "<p>864 rows × 5 columns</p>\n",
       "</div>"
      ],
      "text/plain": [
       "          Date  Case  Death  No slaughter  Outbreak no\n",
       "0     1/1/2014   1.0    1.0           0.0          1.0\n",
       "1     1/1/2014   9.0    5.0           0.0          1.0\n",
       "2     1/1/2014   2.0    1.0           0.0          1.0\n",
       "3     1/1/2014   3.0    1.0           0.0          0.0\n",
       "4     1/1/2014   5.0    4.0           0.0          0.0\n",
       "..         ...   ...    ...           ...          ...\n",
       "859  2/12/2018   4.0    4.0           0.0          1.0\n",
       "860  2/11/2018   5.0    2.0           0.0          1.0\n",
       "861  3/13/2018   2.0    2.0           0.0          1.0\n",
       "862  3/20/2018  24.0    7.0           0.0          1.0\n",
       "863   9/7/2018  11.0    9.0           0.0          1.0\n",
       "\n",
       "[864 rows x 5 columns]"
      ]
     },
     "execution_count": 5,
     "metadata": {},
     "output_type": "execute_result"
    }
   ],
   "source": [
    "df"
   ]
  },
  {
   "cell_type": "code",
   "execution_count": 6,
   "metadata": {},
   "outputs": [],
   "source": [
    "df = df[[\"Date\", \"Case\"]]"
   ]
  },
  {
   "cell_type": "code",
   "execution_count": 7,
   "metadata": {},
   "outputs": [
    {
     "data": {
      "text/html": [
       "<div>\n",
       "<style scoped>\n",
       "    .dataframe tbody tr th:only-of-type {\n",
       "        vertical-align: middle;\n",
       "    }\n",
       "\n",
       "    .dataframe tbody tr th {\n",
       "        vertical-align: top;\n",
       "    }\n",
       "\n",
       "    .dataframe thead th {\n",
       "        text-align: right;\n",
       "    }\n",
       "</style>\n",
       "<table border=\"1\" class=\"dataframe\">\n",
       "  <thead>\n",
       "    <tr style=\"text-align: right;\">\n",
       "      <th></th>\n",
       "      <th>Date</th>\n",
       "      <th>Case</th>\n",
       "    </tr>\n",
       "  </thead>\n",
       "  <tbody>\n",
       "    <tr>\n",
       "      <th>0</th>\n",
       "      <td>1/1/2014</td>\n",
       "      <td>1.0</td>\n",
       "    </tr>\n",
       "    <tr>\n",
       "      <th>1</th>\n",
       "      <td>1/1/2014</td>\n",
       "      <td>9.0</td>\n",
       "    </tr>\n",
       "    <tr>\n",
       "      <th>2</th>\n",
       "      <td>1/1/2014</td>\n",
       "      <td>2.0</td>\n",
       "    </tr>\n",
       "    <tr>\n",
       "      <th>3</th>\n",
       "      <td>1/1/2014</td>\n",
       "      <td>3.0</td>\n",
       "    </tr>\n",
       "    <tr>\n",
       "      <th>4</th>\n",
       "      <td>1/1/2014</td>\n",
       "      <td>5.0</td>\n",
       "    </tr>\n",
       "    <tr>\n",
       "      <th>...</th>\n",
       "      <td>...</td>\n",
       "      <td>...</td>\n",
       "    </tr>\n",
       "    <tr>\n",
       "      <th>859</th>\n",
       "      <td>2/12/2018</td>\n",
       "      <td>4.0</td>\n",
       "    </tr>\n",
       "    <tr>\n",
       "      <th>860</th>\n",
       "      <td>2/11/2018</td>\n",
       "      <td>5.0</td>\n",
       "    </tr>\n",
       "    <tr>\n",
       "      <th>861</th>\n",
       "      <td>3/13/2018</td>\n",
       "      <td>2.0</td>\n",
       "    </tr>\n",
       "    <tr>\n",
       "      <th>862</th>\n",
       "      <td>3/20/2018</td>\n",
       "      <td>24.0</td>\n",
       "    </tr>\n",
       "    <tr>\n",
       "      <th>863</th>\n",
       "      <td>9/7/2018</td>\n",
       "      <td>11.0</td>\n",
       "    </tr>\n",
       "  </tbody>\n",
       "</table>\n",
       "<p>864 rows × 2 columns</p>\n",
       "</div>"
      ],
      "text/plain": [
       "          Date  Case\n",
       "0     1/1/2014   1.0\n",
       "1     1/1/2014   9.0\n",
       "2     1/1/2014   2.0\n",
       "3     1/1/2014   3.0\n",
       "4     1/1/2014   5.0\n",
       "..         ...   ...\n",
       "859  2/12/2018   4.0\n",
       "860  2/11/2018   5.0\n",
       "861  3/13/2018   2.0\n",
       "862  3/20/2018  24.0\n",
       "863   9/7/2018  11.0\n",
       "\n",
       "[864 rows x 2 columns]"
      ]
     },
     "execution_count": 7,
     "metadata": {},
     "output_type": "execute_result"
    }
   ],
   "source": [
    "df"
   ]
  },
  {
   "cell_type": "code",
   "execution_count": null,
   "metadata": {},
   "outputs": [],
   "source": [
    "class visualize():\n",
    "    def __init__():\n",
    "        pass \n",
    "    def box_plot():\n",
    "        pass\n",
    "    def line_plot():\n",
    "        pass \n",
    "    def acf_plot():\n",
    "        pass \n",
    "    def prob_plot():\n",
    "        pass\n",
    "\n",
    "\n",
    "def ts_plots():\n",
    "    "
   ]
  }
 ],
 "metadata": {
  "kernelspec": {
   "display_name": "Python 3.8.1 ('ant': venv)",
   "language": "python",
   "name": "python3"
  },
  "language_info": {
   "codemirror_mode": {
    "name": "ipython",
    "version": 3
   },
   "file_extension": ".py",
   "mimetype": "text/x-python",
   "name": "python",
   "nbconvert_exporter": "python",
   "pygments_lexer": "ipython3",
   "version": "3.8.1"
  },
  "orig_nbformat": 4,
  "vscode": {
   "interpreter": {
    "hash": "1b384657e048c64163727eafabc4741fa991765b07bedadf959c18227ff15323"
   }
  }
 },
 "nbformat": 4,
 "nbformat_minor": 2
}
